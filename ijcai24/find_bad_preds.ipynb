{
 "cells": [
  {
   "cell_type": "code",
   "execution_count": 15,
   "metadata": {},
   "outputs": [],
   "source": [
    "import xarray as xr\n",
    "import matplotlib.pyplot as plt\n",
    "import matplotlib"
   ]
  },
  {
   "cell_type": "code",
   "execution_count": 16,
   "metadata": {},
   "outputs": [],
   "source": [
    "SPINE_COLOR = \"grey\"\n",
    "def latexify(fig_width=None, fig_height=None, columns=1):\n",
    "    \"\"\"Set up matplotlib's RC params for LaTeX plotting.\n",
    "    Call this before plotting a figure.\n",
    "\n",
    "    Parameters\n",
    "    ----------\n",
    "    fig_width : float, optional, inches\n",
    "    fig_height : float,  optional, inches\n",
    "    columns : {1, 2}\n",
    "    \"\"\"\n",
    "\n",
    "    # code adapted from http://www.scipy.org/Cookbook/Matplotlib/LaTeX_Examples\n",
    "\n",
    "    # Width and max height in inches for IEEE journals taken from\n",
    "    # computer.org/cms/Computer.org/Journal%20templates/transactions_art_guide.pdf\n",
    "\n",
    "    assert(columns in [1,2])\n",
    "\n",
    "    fig_width = 3.37\n",
    "    fig_height = 1.5\n",
    "\n",
    "\n",
    "    MAX_HEIGHT_INCHES = 8.0\n",
    "    if fig_height > MAX_HEIGHT_INCHES:\n",
    "        print(\"WARNING: fig_height too large:\" + fig_height + \n",
    "              \"so will reduce to\" + MAX_HEIGHT_INCHES + \"inches.\")\n",
    "        fig_height = MAX_HEIGHT_INCHES\n",
    "\n",
    "    params = {'backend': 'ps',\n",
    "            #   'text.latex.preamble': [r'\\usepackage{gensymb}'],\n",
    "              'axes.labelsize': 9, # fontsize for x and y labels (was 10)\n",
    "              'axes.titlesize': 9,\n",
    "              'font.size': 9, # was 10\n",
    "              'legend.fontsize': 9, # was 10\n",
    "              'xtick.labelsize': 9,\n",
    "              'ytick.labelsize': 9,\n",
    "              'text.usetex': True,\n",
    "              'figure.figsize': [fig_width,fig_height],\n",
    "              'font.family': 'serif'\n",
    "    }\n",
    "\n",
    "    matplotlib.rcParams.update(params)\n",
    "\n",
    "def format_axes(ax):\n",
    "\n",
    "    for spine in ['top', 'right']:\n",
    "        ax.spines[spine].set_visible(False)\n",
    "\n",
    "    for spine in ['left', 'bottom']:\n",
    "        ax.spines[spine].set_color(SPINE_COLOR)\n",
    "        ax.spines[spine].set_linewidth(0.5)\n",
    "\n",
    "    ax.xaxis.set_ticks_position('bottom')\n",
    "    ax.yaxis.set_ticks_position('left')\n",
    "\n",
    "    for axis in [ax.xaxis, ax.yaxis]:\n",
    "        axis.set_tick_params(direction='out', color=SPINE_COLOR)\n",
    "\n",
    "    return ax"
   ]
  },
  {
   "cell_type": "code",
   "execution_count": 47,
   "metadata": {},
   "outputs": [
    {
     "data": {
      "text/plain": [
       "station\n",
       "Alipur_Delhi_DPCC                65.526489\n",
       "Anand_Vihar_Delhi_DPCC           85.029003\n",
       "Arya_Nagar_Bahadurgarh_HSPCB    119.513149\n",
       "Dwarka_Sector_8_Delhi_DPCC_      55.065937\n",
       "ITO_Delhi_CPCB                   59.105858\n",
       "Patparganj_Delhi_DPCC            56.146214\n",
       "R_K_Puram_Delhi_DPCC             79.675788\n",
       "Sanjay_Nagar_Ghaziabad_UPPCB     65.466951\n",
       "Sector_2_IMT_Manesar_HSPCB       59.113939\n",
       "Sector_51_Gurugram_HSPCB         58.827083\n",
       "Vivek_Vihar_Delhi_DPCC           65.497061\n",
       "dtype: float64"
      ]
     },
     "execution_count": 47,
     "metadata": {},
     "output_type": "execute_result"
    }
   ],
   "source": [
    "with xr.open_dataset(\"/opt/aqmsp_models/models/config_s2/anp/cpcb_ijcai24_dec23/config1/fold_3/predictions.nc\") as res_ds:\n",
    "    pass\n",
    "\n",
    "# calculate station-wise rmse\n",
    "rmse = res_ds.to_dataframe().groupby(\"station\").apply(lambda x: (x[\"PM2.5\"] - x[\"PM2.5_pred\"]).pow(2).mean() ** 0.5)\n",
    "rmse"
   ]
  },
  {
   "cell_type": "code",
   "execution_count": 56,
   "metadata": {},
   "outputs": [
    {
     "data": {
      "image/png": "[encoded data removed]",
      "text/plain": [
       "<Figure size 337x150 with 1 Axes>"
      ]
     },
     "metadata": {},
     "output_type": "display_data"
    }
   ],
   "source": [
    "latexify(fig_width=3.37/2, fig_height=1.5)\n",
    "fig, ax = plt.subplots()\n",
    "res_ds.sel(station=\"Anand_Vihar_Delhi_DPCC\")[\"PM2.5\"].plot(ax=ax, label=\"PM2.5\")\n",
    "res_ds.sel(station=\"Anand_Vihar_Delhi_DPCC\")[\"PM2.5_pred\"].plot(ax=ax, label=\"ANP\")\n",
    "xr.open_dataset(\"/opt/aqmsp_models/models/config_s2/rf/cpcb_ijcai24_dec23/config1/fold_3/predictions.nc\").sel(station=\"Arya_Nagar_Bahadurgarh_HSPCB\")[\"PM2.5_pred\"].plot(ax=ax, label=\"RF\", linestyle=\"--\")\n",
    "ax.set_title(\"\")\n",
    "ax.set_ylabel(\"\")\n",
    "ax.set_xlabel(\"\")\n",
    "ax.legend(ncols=3)\n",
    "format_axes(ax)\n",
    "ax.set_ylim(-5, 800)\n",
    "plt.tight_layout()\n",
    "fig.savefig(\"anand_vihar_low_pred.pdf\")"
   ]
  },
  {
   "cell_type": "code",
   "execution_count": 1,
   "metadata": {},
   "outputs": [
    {
     "ename": "NameError",
     "evalue": "name 'latexify' is not defined",
     "output_type": "error",
     "traceback": [
      "\u001b[0;31m---------------------------------------------------------------------------\u001b[0m",
      "\u001b[0;31mNameError\u001b[0m                                 Traceback (most recent call last)",
      "Cell \u001b[0;32mIn[1], line 1\u001b[0m\n\u001b[0;32m----> 1\u001b[0m \u001b[43mlatexify\u001b[49m(fig_width\u001b[38;5;241m=\u001b[39m\u001b[38;5;241m3.37\u001b[39m\u001b[38;5;241m/\u001b[39m\u001b[38;5;241m2\u001b[39m, fig_height\u001b[38;5;241m=\u001b[39m\u001b[38;5;241m2\u001b[39m)\n\u001b[1;32m      2\u001b[0m fig, ax \u001b[38;5;241m=\u001b[39m plt\u001b[38;5;241m.\u001b[39msubplots(figsize\u001b[38;5;241m=\u001b[39m(\u001b[38;5;241m3.37\u001b[39m, \u001b[38;5;241m3\u001b[39m))\n\u001b[1;32m      3\u001b[0m res_ds\u001b[38;5;241m.\u001b[39msel(station\u001b[38;5;241m=\u001b[39m\u001b[38;5;124m\"\u001b[39m\u001b[38;5;124mArya_Nagar_Bahadurgarh_HSPCB\u001b[39m\u001b[38;5;124m\"\u001b[39m)[\u001b[38;5;124m\"\u001b[39m\u001b[38;5;124mPM2.5\u001b[39m\u001b[38;5;124m\"\u001b[39m]\u001b[38;5;241m.\u001b[39mplot(ax\u001b[38;5;241m=\u001b[39max, label\u001b[38;5;241m=\u001b[39m\u001b[38;5;124m\"\u001b[39m\u001b[38;5;124mPM2.5\u001b[39m\u001b[38;5;124m\"\u001b[39m)\n",
      "\u001b[0;31mNameError\u001b[0m: name 'latexify' is not defined"
     ]
    }
   ],
   "source": [
    "latexify(fig_width=3.37/2, fig_height=2)\n",
    "fig, ax = plt.subplots(figsize=(3.37, 3))\n",
    "res_ds.sel(station=\"Arya_Nagar_Bahadurgarh_HSPCB\")[\"PM2.5\"].plot(ax=ax, label=\"PM2.5\")\n",
    "res_ds.sel(station=\"Arya_Nagar_Bahadurgarh_HSPCB\")[\"PM2.5_pred\"].plot(ax=ax, label=\"ANP\")\n",
    "xr.open_dataset(\"/opt/aqmsp_models/models/config_s2/rf/cpcb_ijcai24_dec23/config1/fold_3/predictions.nc\").sel(station=\"Arya_Nagar_Bahadurgarh_HSPCB\")[\"PM2.5_pred\"].plot(ax=ax, label=\"RF\", linestyle=\"--\")\n",
    "ax.set_title(\"\")\n",
    "ax.set_ylabel(\"\")\n",
    "ax.set_xlabel(\"\")\n",
    "ax.legend(ncols=3)\n",
    "ax.set_ylim(-5, 700)\n",
    "format_axes(ax)\n",
    "plt.tight_layout()\n",
    "fig.savefig(\"arya_nagar_high_pred.pdf\")"
   ]
  },
  {
   "cell_type": "code",
   "execution_count": null,
   "metadata": {},
   "outputs": [],
   "source": []
  }
 ],
 "metadata": {
  "kernelspec": {
   "display_name": "torch_gpu_py311",
   "language": "python",
   "name": "python3"
  },
  "language_info": {
   "codemirror_mode": {
    "name": "ipython",
    "version": 3
   },
   "file_extension": ".py",
   "mimetype": "text/x-python",
   "name": "python",
   "nbconvert_exporter": "python",
   "pygments_lexer": "ipython3",
   "version": "3.11.5"
  }
 },
 "nbformat": 4,
 "nbformat_minor": 2
}
